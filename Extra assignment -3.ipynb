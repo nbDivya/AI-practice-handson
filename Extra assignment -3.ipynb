{
 "cells": [
  {
   "cell_type": "code",
   "execution_count": 4,
   "id": "97b14c5f",
   "metadata": {},
   "outputs": [
    {
     "name": "stdout",
     "output_type": "stream",
     "text": [
      "Value: 10\n",
      "Correct\n"
     ]
    }
   ],
   "source": [
    "#print 'correct ' if i==10\n",
    "i=10\n",
    "if(i==10):\n",
    "    print(\"Value:\",i)\n",
    "    print(\"Correct\")"
   ]
  },
  {
   "cell_type": "code",
   "execution_count": 9,
   "id": "b985a9a2",
   "metadata": {},
   "outputs": [
    {
     "name": "stdout",
     "output_type": "stream",
     "text": [
      "enter the PasswordHope@123\n",
      "Your password is correct\n"
     ]
    }
   ],
   "source": [
    "#check the password using if and else\n",
    "pwd=\"Hope@123\"\n",
    "pwd=input(\"enter the Password:\")\n",
    "if(pwd):\n",
    "    print(\"Your password is correct\")"
   ]
  },
  {
   "cell_type": "code",
   "execution_count": 33,
   "id": "9647068f",
   "metadata": {},
   "outputs": [
    {
     "name": "stdout",
     "output_type": "stream",
     "text": [
      "Age:20\n",
      "Adult\n"
     ]
    }
   ],
   "source": [
    "#Category the people based on their age like children,adult,citizen and senior citizen\n",
    "Age=int(input(\"Age:\"))\n",
    "if(Age>=0 and Age<=15):\n",
    "    print(\"children\")\n",
    "elif(Age>15 and Age<30):\n",
    "    print(\"Adult\")\n",
    "elif(Age>30 and Age<=60):\n",
    "    print(\"Citizen\")\n",
    "elif(Age>60):\n",
    "    print(\"Senior citizen\")\n",
    "else:\n",
    "    print(\"Invalid\")\n",
    "    \n",
    "\n",
    "    \n",
    "\n",
    "    \n",
    "         \n",
    "   \n",
    "    \n",
    "   \n",
    "\n",
    "                    "
   ]
  },
  {
   "cell_type": "code",
   "execution_count": 34,
   "id": "17fa2845",
   "metadata": {},
   "outputs": [
    {
     "name": "stdout",
     "output_type": "stream",
     "text": [
      "enter any number:2\n",
      "2 Is positive\n"
     ]
    }
   ],
   "source": [
    "#Find given number is postive or negative\n",
    "number=int(input(\"enter any number:\"))\n",
    "if(number>0):\n",
    "    print(number, \"is positive\")\n",
    "else:\n",
    "    print(number,\"is negative\")\n",
    "\n"
   ]
  },
  {
   "cell_type": "code",
   "execution_count": 35,
   "id": "d908206f",
   "metadata": {},
   "outputs": [
    {
     "name": "stdout",
     "output_type": "stream",
     "text": [
      "enter a number to check:22\n",
      "22 is not divisible by 5\n"
     ]
    }
   ],
   "source": [
    "#check whether the given number is divisible by 5\n",
    "number=int(input(\"enter a number to check:\"))\n",
    "if(number%5==0):\n",
    "    print(number, \"is divisible by 5\")\n",
    "else:\n",
    "    print(number,\"is not divisible by 5\")\n",
    "    "
   ]
  },
  {
   "cell_type": "code",
   "execution_count": null,
   "id": "da000614",
   "metadata": {},
   "outputs": [],
   "source": []
  }
 ],
 "metadata": {
  "kernelspec": {
   "display_name": "Python 3 (ipykernel)",
   "language": "python",
   "name": "python3"
  },
  "language_info": {
   "codemirror_mode": {
    "name": "ipython",
    "version": 3
   },
   "file_extension": ".py",
   "mimetype": "text/x-python",
   "name": "python",
   "nbconvert_exporter": "python",
   "pygments_lexer": "ipython3",
   "version": "3.11.4"
  }
 },
 "nbformat": 4,
 "nbformat_minor": 5
}
