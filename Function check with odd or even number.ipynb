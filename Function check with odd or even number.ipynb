{
 "cells": [
  {
   "cell_type": "code",
   "execution_count": 40,
   "id": "b2b54980",
   "metadata": {},
   "outputs": [],
   "source": [
    "def oddeven():\n",
    "    number=int(input(\"Enter the number\"))\n",
    "    if(number%2==0):\n",
    "        print(\"Even number\")\n",
    "        message=\"Even\"\n",
    "    else:\n",
    "        print(\"Odd number\")\n",
    "        message=\"Odd\"\n",
    "    return message\n"
   ]
  },
  {
   "cell_type": "code",
   "execution_count": 48,
   "id": "9f6ef8c8",
   "metadata": {},
   "outputs": [
    {
     "name": "stdout",
     "output_type": "stream",
     "text": [
      "Enter the number66\n",
      "Even number\n"
     ]
    },
    {
     "data": {
      "text/plain": [
       "'Even'"
      ]
     },
     "execution_count": 48,
     "metadata": {},
     "output_type": "execute_result"
    }
   ],
   "source": [
    "oddeven()"
   ]
  },
  {
   "cell_type": "code",
   "execution_count": 51,
   "id": "54b06a2d",
   "metadata": {},
   "outputs": [
    {
     "name": "stdout",
     "output_type": "stream",
     "text": [
      "Enter the number88\n",
      "Even number\n"
     ]
    }
   ],
   "source": [
    "message=oddeven()"
   ]
  },
  {
   "cell_type": "code",
   "execution_count": 49,
   "id": "1d21f891",
   "metadata": {},
   "outputs": [
    {
     "data": {
      "text/plain": [
       "'Even'"
      ]
     },
     "execution_count": 49,
     "metadata": {},
     "output_type": "execute_result"
    }
   ],
   "source": [
    "message"
   ]
  },
  {
   "cell_type": "code",
   "execution_count": 38,
   "id": "86cc6b6b",
   "metadata": {},
   "outputs": [],
   "source": [
    "#One program output(return statement)going to the input of next program #CALL TO ACTION"
   ]
  },
  {
   "cell_type": "code",
   "execution_count": 52,
   "id": "be9e50f8",
   "metadata": {},
   "outputs": [
    {
     "name": "stdout",
     "output_type": "stream",
     "text": [
      "The given number is odd\n"
     ]
    }
   ],
   "source": [
    "if(message==\"Even number\"):\n",
    "    print(\"The given number is Even\")\n",
    "else:\n",
    "    print(\"The given number is odd\")"
   ]
  },
  {
   "cell_type": "code",
   "execution_count": 53,
   "id": "708adac5",
   "metadata": {},
   "outputs": [
    {
     "name": "stdout",
     "output_type": "stream",
     "text": [
      "The given number is odd\n"
     ]
    }
   ],
   "source": [
    "if(message==\"Even number\"):\n",
    "    print(\"The given number is Even\")\n",
    "else:\n",
    "    print(\"The given number is odd\")"
   ]
  },
  {
   "cell_type": "code",
   "execution_count": 6,
   "id": "eb4af0d0",
   "metadata": {},
   "outputs": [],
   "source": [
    "def oddeven():\n",
    "    number=int(input(\"Enter the number\"))\n",
    "    if(number%2==0):\n",
    "        print(\"Even number\")\n",
    "        message=\"Even\"\n",
    "    else:\n",
    "        print(\"Odd number\")\n",
    "        message=\"Odd\"\n",
    "    return message"
   ]
  },
  {
   "cell_type": "code",
   "execution_count": 9,
   "id": "5b671020",
   "metadata": {},
   "outputs": [
    {
     "name": "stdout",
     "output_type": "stream",
     "text": [
      "Enter the number21\n",
      "Odd number\n"
     ]
    }
   ],
   "source": [
    "message=oddeven()"
   ]
  },
  {
   "cell_type": "code",
   "execution_count": 10,
   "id": "b0985d06",
   "metadata": {},
   "outputs": [
    {
     "name": "stdout",
     "output_type": "stream",
     "text": [
      "The given number is odd\n"
     ]
    }
   ],
   "source": [
    "if(message==\"Even\"):\n",
    "    print(\"The given number is Even\")\n",
    "else:\n",
    "    print(\"The given number is odd\")"
   ]
  },
  {
   "cell_type": "code",
   "execution_count": 1,
   "id": "ddf6a3f0",
   "metadata": {},
   "outputs": [],
   "source": [
    "def oddeven():\n",
    "    number=int(input(\"Enter the number\"))\n",
    "    if(number%2==0):\n",
    "        print(\"Even number\")\n",
    "        message=\"Even\"\n",
    "    else:\n",
    "        print(\"Odd number\")\n",
    "        message=\"Odd\"\n",
    "    return message"
   ]
  },
  {
   "cell_type": "code",
   "execution_count": 3,
   "id": "9047d1e4",
   "metadata": {},
   "outputs": [
    {
     "name": "stdout",
     "output_type": "stream",
     "text": [
      "Enter the number21\n",
      "Odd number\n"
     ]
    },
    {
     "data": {
      "text/plain": [
       "'Odd'"
      ]
     },
     "execution_count": 3,
     "metadata": {},
     "output_type": "execute_result"
    }
   ],
   "source": [
    "oddeven()"
   ]
  },
  {
   "cell_type": "code",
   "execution_count": 4,
   "id": "83e5d6b4",
   "metadata": {},
   "outputs": [
    {
     "name": "stdout",
     "output_type": "stream",
     "text": [
      "Enter the number20\n",
      "Even number\n"
     ]
    }
   ],
   "source": [
    "message=oddeven()"
   ]
  },
  {
   "cell_type": "code",
   "execution_count": 5,
   "id": "5cdeb863",
   "metadata": {},
   "outputs": [
    {
     "name": "stdout",
     "output_type": "stream",
     "text": [
      "Even\n"
     ]
    }
   ],
   "source": [
    "print(message)"
   ]
  },
  {
   "cell_type": "code",
   "execution_count": 2,
   "id": "6b52902c",
   "metadata": {},
   "outputs": [],
   "source": [
    "def add(num1,num2):\n",
    "    add=num1+num2\n",
    "    return add"
   ]
  },
  {
   "cell_type": "code",
   "execution_count": 3,
   "id": "725ac863",
   "metadata": {},
   "outputs": [
    {
     "data": {
      "text/plain": [
       "9"
      ]
     },
     "execution_count": 3,
     "metadata": {},
     "output_type": "execute_result"
    }
   ],
   "source": [
    "add(4,5)"
   ]
  },
  {
   "cell_type": "code",
   "execution_count": 5,
   "id": "65b8a3b4",
   "metadata": {},
   "outputs": [],
   "source": [
    "def sub(num1,num2):\n",
    "    sub=num1-num2\n",
    "    return sub"
   ]
  },
  {
   "cell_type": "code",
   "execution_count": 6,
   "id": "cf228faa",
   "metadata": {},
   "outputs": [
    {
     "data": {
      "text/plain": [
       "2"
      ]
     },
     "execution_count": 6,
     "metadata": {},
     "output_type": "execute_result"
    }
   ],
   "source": [
    "sub(4,2)"
   ]
  },
  {
   "cell_type": "code",
   "execution_count": null,
   "id": "7ec01f04",
   "metadata": {},
   "outputs": [],
   "source": []
  },
  {
   "cell_type": "code",
   "execution_count": null,
   "id": "d2026cbc",
   "metadata": {},
   "outputs": [],
   "source": []
  }
 ],
 "metadata": {
  "kernelspec": {
   "display_name": "Python 3 (ipykernel)",
   "language": "python",
   "name": "python3"
  },
  "language_info": {
   "codemirror_mode": {
    "name": "ipython",
    "version": 3
   },
   "file_extension": ".py",
   "mimetype": "text/x-python",
   "name": "python",
   "nbconvert_exporter": "python",
   "pygments_lexer": "ipython3",
   "version": "3.11.4"
  }
 },
 "nbformat": 4,
 "nbformat_minor": 5
}
