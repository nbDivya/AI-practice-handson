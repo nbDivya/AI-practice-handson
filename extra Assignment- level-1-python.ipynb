{
 "cells": [
  {
   "cell_type": "code",
   "execution_count": 14,
   "id": "7d0b8dbf",
   "metadata": {},
   "outputs": [
    {
     "name": "stdout",
     "output_type": "stream",
     "text": [
      "Hope AI\n"
     ]
    }
   ],
   "source": [
    "#print Statement\n",
    "print(\"Hope AI\")\n"
   ]
  },
  {
   "cell_type": "code",
   "execution_count": 16,
   "id": "e45ba192",
   "metadata": {},
   "outputs": [
    {
     "name": "stdout",
     "output_type": "stream",
     "text": [
      "Enter your institute Name:Hope AI\n"
     ]
    }
   ],
   "source": [
    "#Buy input\n",
    "institute=input(\"Enter your institute Name:\")\n"
   ]
  },
  {
   "cell_type": "code",
   "execution_count": null,
   "id": "57d483a1",
   "metadata": {},
   "outputs": [],
   "source": [
    "#Buy input\n",
    "institute=input(\"Enter your institute Name? :\")\n",
    "print(\"Enter your institute Name? :\")\n"
   ]
  },
  {
   "cell_type": "code",
   "execution_count": null,
   "id": "d2243d9d",
   "metadata": {},
   "outputs": [],
   "source": [
    "#Buy input\n",
    "institute=input(\"Enter your institute Name? :\")\n",
    "print(\"Enter your institute Name? :\")\n"
   ]
  },
  {
   "cell_type": "code",
   "execution_count": null,
   "id": "07a91322",
   "metadata": {},
   "outputs": [],
   "source": [
    "#Buy input\n",
    "institute=input(\"Enter your institute Name? :\")"
   ]
  },
  {
   "cell_type": "code",
   "execution_count": 13,
   "id": "2c12c979",
   "metadata": {},
   "outputs": [
    {
     "name": "stdout",
     "output_type": "stream",
     "text": [
      "Enter your name: divya\n",
      "Enter your age: 30\n",
      "Enter your school: CNR\n",
      "Enter your degree: MCA\n"
     ]
    }
   ],
   "source": [
    "#Buy Inputs\n",
    "Name=input(\"Enter your name: \")\n",
    "age=input(\"Enter your age: \")\n",
    "school=input(\"Enter your school: \")\n",
    "degree=input(\"Enter your degree: \")\n"
   ]
  },
  {
   "cell_type": "code",
   "execution_count": 1,
   "id": "b3ff3d27",
   "metadata": {},
   "outputs": [
    {
     "name": "stdout",
     "output_type": "stream",
     "text": [
      "a=43\n",
      "b=34\n",
      "add= 77\n"
     ]
    }
   ],
   "source": [
    "#Addition\n",
    "a=int(input(\"a=\"))\n",
    "b=int(input(\"b=\"))\n",
    "c=a+b\n",
    "print(\"add=\",c)\n",
    "      \n"
   ]
  },
  {
   "cell_type": "code",
   "execution_count": 5,
   "id": "cf0dfee4",
   "metadata": {},
   "outputs": [
    {
     "name": "stdout",
     "output_type": "stream",
     "text": [
      "a=43\n",
      "b=34\n",
      "sub= 9\n"
     ]
    }
   ],
   "source": [
    "#Subtraction\n",
    "a=int(input(\"a=\"))\n",
    "b=int(input(\"b=\"))\n",
    "c=a-b\n",
    "print(\"sub=\",c)"
   ]
  },
  {
   "cell_type": "code",
   "execution_count": 6,
   "id": "94e9dd15",
   "metadata": {},
   "outputs": [
    {
     "name": "stdout",
     "output_type": "stream",
     "text": [
      "a=63\n",
      "b=97\n",
      "mul= 6111\n"
     ]
    }
   ],
   "source": [
    "#Multiplication\n",
    "a=int(input(\"a=\"))\n",
    "b=int(input(\"b=\"))\n",
    "c=a*b\n",
    "print(\"mul=\",c)"
   ]
  },
  {
   "cell_type": "code",
   "execution_count": 7,
   "id": "39773d49",
   "metadata": {},
   "outputs": [
    {
     "name": "stdout",
     "output_type": "stream",
     "text": [
      "a=76\n",
      "b=31\n",
      "Float division= 2.4516129032258065\n"
     ]
    }
   ],
   "source": [
    "#Division\n",
    "a=int(input(\"a=\"))\n",
    "b=int(input(\"b=\"))\n",
    "c=a/b\n",
    "print(\"Float division=\",c)"
   ]
  },
  {
   "cell_type": "code",
   "execution_count": 8,
   "id": "8f35c0fe",
   "metadata": {},
   "outputs": [
    {
     "name": "stdout",
     "output_type": "stream",
     "text": [
      "a=76\n",
      "b=31\n",
      "Float division= 2\n"
     ]
    }
   ],
   "source": [
    "#Floor Division\n",
    "a=int(input(\"a=\"))\n",
    "b=int(input(\"b=\"))\n",
    "c=a//b\n",
    "print(\"Float division=\",c)"
   ]
  },
  {
   "cell_type": "code",
   "execution_count": 10,
   "id": "e5c56d7a",
   "metadata": {},
   "outputs": [
    {
     "name": "stdout",
     "output_type": "stream",
     "text": [
      "a=76\n",
      "b=31\n",
      "Modulo= 14\n"
     ]
    }
   ],
   "source": [
    "#Modulo\n",
    "a=int(input(\"a=\"))\n",
    "b=int(input(\"b=\"))\n",
    "c=a%b\n",
    "print(\"Modulo=\",c)"
   ]
  },
  {
   "cell_type": "code",
   "execution_count": 11,
   "id": "8e3b8dc0",
   "metadata": {},
   "outputs": [],
   "source": [
    "#power\n",
    "a=int(input(\"a=\"))\n",
    "b=int(input(\"b=\"))\n",
    "c=a%b\n",
    "print(\"Modulo=\",c)"
   ]
  },
  {
   "cell_type": "code",
   "execution_count": null,
   "id": "d696300f",
   "metadata": {},
   "outputs": [],
   "source": []
  }
 ],
 "metadata": {
  "kernelspec": {
   "display_name": "Python 3 (ipykernel)",
   "language": "python",
   "name": "python3"
  },
  "language_info": {
   "codemirror_mode": {
    "name": "ipython",
    "version": 3
   },
   "file_extension": ".py",
   "mimetype": "text/x-python",
   "name": "python",
   "nbconvert_exporter": "python",
   "pygments_lexer": "ipython3",
   "version": "3.11.4"
  }
 },
 "nbformat": 4,
 "nbformat_minor": 5
}
