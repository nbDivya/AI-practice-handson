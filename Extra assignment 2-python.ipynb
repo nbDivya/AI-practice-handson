{
 "cells": [
  {
   "cell_type": "code",
   "execution_count": null,
   "id": "17b5641a",
   "metadata": {},
   "outputs": [],
   "source": [
    "# print 0 to 20 by using range\n",
    "for temp in range(0,20):\n",
    "    print(temp)"
   ]
  },
  {
   "cell_type": "code",
   "execution_count": null,
   "id": "fb2371ac",
   "metadata": {},
   "outputs": [],
   "source": [
    "#print range 10 to 20\n",
    "for temp in range(10,20):\n",
    "    print(temp)\n"
   ]
  },
  {
   "cell_type": "code",
   "execution_count": null,
   "id": "e1686bfd",
   "metadata": {},
   "outputs": [],
   "source": [
    "Lists=[10,11,12,13,14,15,16,17,18,19]\n",
    "print(Lists)"
   ]
  },
  {
   "cell_type": "code",
   "execution_count": null,
   "id": "e16de5cb",
   "metadata": {},
   "outputs": [],
   "source": [
    "temp=[10,11,12,13,14,15,16,17,18,19]\n",
    "for temp in range(10,20):\n",
    "    print(temp)"
   ]
  },
  {
   "cell_type": "code",
   "execution_count": null,
   "id": "e5805f94",
   "metadata": {},
   "outputs": [],
   "source": [
    "#print number of items using len\n",
    "lists=[10,20,14,55,43,87,76]\n",
    "length=len(lists)\n",
    "print(\"Number of item in the List2:\",length)"
   ]
  },
  {
   "cell_type": "code",
   "execution_count": 2,
   "id": "cee47ca0",
   "metadata": {},
   "outputs": [
    {
     "name": "stdout",
     "output_type": "stream",
     "text": [
      "Artificial Intelligence\n",
      "A\n",
      "r\n",
      "t\n",
      "i\n",
      "f\n",
      "i\n",
      "c\n",
      "i\n",
      "a\n",
      "l\n",
      " \n",
      "I\n",
      "n\n",
      "t\n",
      "e\n",
      "l\n",
      "l\n",
      "i\n",
      "g\n",
      "e\n",
      "n\n",
      "c\n",
      "e\n"
     ]
    }
   ],
   "source": [
    "print(\"Artificial Intelligence\")\n",
    "text=\"Artificial Intelligence\"\n",
    "print('\\n'.join(text))"
   ]
  },
  {
   "cell_type": "code",
   "execution_count": 3,
   "id": "18e66778",
   "metadata": {},
   "outputs": [
    {
     "name": "stdout",
     "output_type": "stream",
     "text": [
      "-your Name- Divya\n",
      "-your age- 30\n",
      "-your profession- TL\n"
     ]
    }
   ],
   "source": [
    "Name=input(\"-your Name- \")\n",
    "age=input(\"-your age- \")\n",
    "Prof=input(\"-your profession- \")\n"
   ]
  },
  {
   "cell_type": "code",
   "execution_count": 5,
   "id": "b6f38aeb",
   "metadata": {},
   "outputs": [
    {
     "name": "stdout",
     "output_type": "stream",
     "text": [
      "(1, 'Welcome', 2, 'Hope')\n"
     ]
    }
   ],
   "source": [
    "tup=(1, 'Welcome', 2, 'Hope')\n",
    "print(tup)"
   ]
  },
  {
   "cell_type": "code",
   "execution_count": 8,
   "id": "55fac1f9",
   "metadata": {},
   "outputs": [
    {
     "name": "stdout",
     "output_type": "stream",
     "text": [
      "((0, 1, 2, 3), ('python', 'HOPE'))\n"
     ]
    }
   ],
   "source": [
    "tup1=(0,1,2,3)\n",
    "tup2=('python', 'HOPE')\n",
    "nestedtup=((0,1,2,3),('python', 'HOPE'))\n",
    "print(nestedtup)"
   ]
  },
  {
   "cell_type": "code",
   "execution_count": 24,
   "id": "cc404146",
   "metadata": {},
   "outputs": [
    {
     "name": "stdout",
     "output_type": "stream",
     "text": [
      "19 is odd\n",
      "25 is odd\n",
      "1 is odd\n"
     ]
    }
   ],
   "source": [
    "#print Odd Numbers in the list\n",
    "#(20,10,16,19,25,1,276,188)\n",
    "numbers=(20,10,16,19,25,1,276,188)\n",
    "for num in numbers:\n",
    "    if num % 2 != 0 :\n",
    "          print(num,\"is odd\")\n",
    "        \n",
    "  "
   ]
  },
  {
   "cell_type": "code",
   "execution_count": 25,
   "id": "688bca7e",
   "metadata": {},
   "outputs": [
    {
     "name": "stdout",
     "output_type": "stream",
     "text": [
      "20 is Even\n",
      "10 is Even\n",
      "16 is Even\n",
      "276 is Even\n",
      "188 is Even\n"
     ]
    }
   ],
   "source": [
    "#print even number in the list\n",
    "#(20,10,16,19,25,1,276,188)\n",
    "numbers=(20,10,16,19,25,1,276,188)\n",
    "for num in numbers:\n",
    "    if num % 2 == 0 :\n",
    "          print(num,\"is Even\")\n",
    "        "
   ]
  },
  {
   "cell_type": "code",
   "execution_count": null,
   "id": "1af7897d",
   "metadata": {},
   "outputs": [],
   "source": []
  }
 ],
 "metadata": {
  "kernelspec": {
   "display_name": "Python 3 (ipykernel)",
   "language": "python",
   "name": "python3"
  },
  "language_info": {
   "codemirror_mode": {
    "name": "ipython",
    "version": 3
   },
   "file_extension": ".py",
   "mimetype": "text/x-python",
   "name": "python",
   "nbconvert_exporter": "python",
   "pygments_lexer": "ipython3",
   "version": "3.11.4"
  }
 },
 "nbformat": 4,
 "nbformat_minor": 5
}
