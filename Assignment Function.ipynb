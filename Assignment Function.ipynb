{
 "cells": [
  {
   "cell_type": "code",
   "execution_count": null,
   "id": "02878eab",
   "metadata": {},
   "outputs": [],
   "source": [
    "# Create function\n"
   ]
  },
  {
   "cell_type": "code",
   "execution_count": 11,
   "id": "b32b0a16",
   "metadata": {},
   "outputs": [],
   "source": [
    "def subfields():\n",
    "    print(\"Subfields in AI are:\")\n",
    "    print(\"Machine language\")\n",
    "    print(\"Neural Network\")\n",
    "    print(\"Vision\")\n",
    "    print(\"Robotics\")\n",
    "    print(\"speech processing\")\n",
    "    print(\"Natural language processing\")"
   ]
  },
  {
   "cell_type": "code",
   "execution_count": 12,
   "id": "25d342ac",
   "metadata": {},
   "outputs": [
    {
     "name": "stdout",
     "output_type": "stream",
     "text": [
      "Subfields in AI are:\n",
      "Machine language\n",
      "Neural Network\n",
      "Vision\n",
      "Robotics\n",
      "speech processing\n",
      "Natural language processing\n"
     ]
    }
   ],
   "source": [
    "subfields()"
   ]
  },
  {
   "cell_type": "code",
   "execution_count": null,
   "id": "8c065e2c",
   "metadata": {},
   "outputs": [],
   "source": [
    "# Create a function that checks whether the given number is Odd or Even\n"
   ]
  },
  {
   "cell_type": "code",
   "execution_count": null,
   "id": "6b20313f",
   "metadata": {},
   "outputs": [],
   "source": [
    "def oddeven():   \n",
    "    number=int(input(\"Enter the number\"))\n",
    "    if(number%2==0):\n",
    "        print(\"The given number is even\")\n",
    "    else:\n",
    "        print(\"The given number is odd\")\n"
   ]
  },
  {
   "cell_type": "code",
   "execution_count": null,
   "id": "f82d3f7d",
   "metadata": {},
   "outputs": [],
   "source": [
    "oddeven()"
   ]
  },
  {
   "cell_type": "code",
   "execution_count": null,
   "id": "2a37a704",
   "metadata": {},
   "outputs": [],
   "source": [
    "def oddeven():   \n",
    "    number=int(input(\"Enter the number\"))\n",
    "    if(number%2==0):\n",
    "        print(number,\"The given number is even\")\n",
    "    else:\n",
    "        print(number,\"The given number is odd\")"
   ]
  },
  {
   "cell_type": "code",
   "execution_count": null,
   "id": "d3d92a61",
   "metadata": {},
   "outputs": [],
   "source": [
    "oddeven()"
   ]
  },
  {
   "cell_type": "code",
   "execution_count": null,
   "id": "ab4543b0",
   "metadata": {},
   "outputs": [],
   "source": [
    "#Create a function that tells elegibility of marriage for male and female according to their age limit like 21 for male and 18 for female"
   ]
  },
  {
   "cell_type": "code",
   "execution_count": null,
   "id": "e0ad6447",
   "metadata": {},
   "outputs": [],
   "source": [
    "def EligibilityofMarriage():\n",
    "    gender=input(\"Enter gender:\")\n",
    "    age=int(input(\"Enter your age:\"))\n",
    "    if((age<21) and (gender==male)):\n",
    "        print(\"Not elligible for marriage\")\n",
    "    else:\n",
    "        print(\"Elligible for marriage\")\n",
    "    elif((age<18) and (gender==female)):\n",
    "        print(\"Not elligible for marriage\")\n",
    "    else:\n",
    "        print(\"Elligible for marriage\")"
   ]
  },
  {
   "cell_type": "code",
   "execution_count": null,
   "id": "de8e5cab",
   "metadata": {},
   "outputs": [],
   "source": [
    "EligibilityofMarriage()"
   ]
  },
  {
   "cell_type": "code",
   "execution_count": null,
   "id": "888bb220",
   "metadata": {},
   "outputs": [],
   "source": [
    "def EligibilityofMarriage():\n",
    "    gender=input(\"Enter gender:\")\n",
    "    age=int(input(\"Enter your age:\"))\n",
    "    if(gender==\"male\"):\n",
    "        if(age<21):\n",
    "            print(\"Not elligible for marriage\")\n",
    "        else:\n",
    "            print(\"Elligible for marriage\")\n",
    "    elif(gender==\"female\"):\n",
    "        if(age<18):        \n",
    "            print(\"Not elligible for marriage\")\n",
    "        else:\n",
    "            print(\"Elligible for marriage\")  \n",
    "    else:\n",
    "        print(\"Invalid input\")"
   ]
  },
  {
   "cell_type": "code",
   "execution_count": null,
   "id": "1596be19",
   "metadata": {},
   "outputs": [],
   "source": [
    "EligibilityofMarriage()"
   ]
  },
  {
   "cell_type": "code",
   "execution_count": null,
   "id": "34c7011f",
   "metadata": {},
   "outputs": [],
   "source": [
    "percentage()"
   ]
  },
  {
   "cell_type": "code",
   "execution_count": null,
   "id": "82f91135",
   "metadata": {},
   "outputs": [],
   "source": [
    "# calculate the percentage of your 10th mark"
   ]
  },
  {
   "cell_type": "code",
   "execution_count": null,
   "id": "0f4d61bf",
   "metadata": {},
   "outputs": [],
   "source": [
    "def percentage():\n",
    "    subject1=int(input(\"subject1:\"))\n",
    "    subject2=int(input(\"subject2:\"))\n",
    "    subject3=int(input(\"subject3:\"))\n",
    "    subject4=int(input(\"subject4:\"))\n",
    "    subject5=int(input(\"subject5:\"))\n",
    "    total=subject1+subject2+subject3+subject4+subject5\n",
    "    print(\"Total\",total)\n",
    "    percentage=total/5\n",
    "    print(\"percentage:\",percentage)\n",
    "\n",
    "        \n",
    "\n",
    "        \n"
   ]
  },
  {
   "cell_type": "code",
   "execution_count": null,
   "id": "6dce0c8e",
   "metadata": {},
   "outputs": [],
   "source": [
    "percentage()"
   ]
  },
  {
   "cell_type": "code",
   "execution_count": null,
   "id": "3759adf8",
   "metadata": {},
   "outputs": [],
   "source": [
    "#print area and perimeter of triangle using function"
   ]
  },
  {
   "cell_type": "code",
   "execution_count": null,
   "id": "e91f5052",
   "metadata": {},
   "outputs": [],
   "source": [
    "# Area of triangle\n",
    "#(Height*breath)/2\n",
    "#Area of perimeter\n",
    "#a+b+c"
   ]
  },
  {
   "cell_type": "code",
   "execution_count": null,
   "id": "1288dcbf",
   "metadata": {},
   "outputs": [],
   "source": [
    "area()"
   ]
  },
  {
   "cell_type": "code",
   "execution_count": null,
   "id": "84266f68",
   "metadata": {},
   "outputs": [],
   "source": [
    "   \n",
    "def area():\n",
    "    height=int(input(\"enter the height value\"))\n",
    "    breath=int(input(\"enter the breath value\"))\n",
    "    \n",
    "    area=(height*breath)/2\n",
    "    print(area)\n",
    "    return area\n",
    "    "
   ]
  },
  {
   "cell_type": "code",
   "execution_count": null,
   "id": "3568f51c",
   "metadata": {},
   "outputs": [],
   "source": [
    "main()"
   ]
  },
  {
   "cell_type": "code",
   "execution_count": null,
   "id": "1bc9837b",
   "metadata": {},
   "outputs": [],
   "source": [
    "area()\n"
   ]
  },
  {
   "cell_type": "code",
   "execution_count": null,
   "id": "ab0ea2b4",
   "metadata": {},
   "outputs": [],
   "source": [
    "   \n",
    "def area():\n",
    "    height=int(input(\"enter the height value\"))\n",
    "    breath=int(input(\"enter the breath value\"))\n",
    "    \n",
    "    area=(height*breath)/2\n",
    "    print(area)\n",
    "    return area\n",
    "\n",
    "def perimeter():\n",
    "    side1=int(input(\"enter side1 one value\"))\n",
    "    side2=int(input(\"enter side2 one value\"))\n",
    "    side3=int(input(\"enter side3 one value\"))\n",
    "    perimeter=side1+side2+side3\n",
    "    print(perimeter)\n",
    "    return perimeter\n",
    "    "
   ]
  },
  {
   "cell_type": "code",
   "execution_count": null,
   "id": "05afec29",
   "metadata": {},
   "outputs": [],
   "source": [
    "area()\n",
    "perimeter()"
   ]
  },
  {
   "cell_type": "code",
   "execution_count": null,
   "id": "8f7968c7",
   "metadata": {},
   "outputs": [],
   "source": [
    "def main():\n",
    "    area()\n",
    "    perimeter()\n",
    "\n",
    "def area():\n",
    "    height=int(input(\"enter the height value\"))\n",
    "    breath=int(input(\"enter the breath value\"))\n",
    "    print(\"Area formula:(height*breath)/2\")\n",
    "    area=(height*breath)/2\n",
    "    print(\"Area of Triangle:\",area)\n",
    "    return area\n",
    "\n",
    "\n",
    "def perimeter():\n",
    "    side1=int(input(\"enter side1 one value\"))\n",
    "    side2=int(input(\"enter side2 one value\"))\n",
    "    side3=int(input(\"enter side3 one value\"))\n",
    "    print(\"Perimeter formula:side1+side2+side3\")\n",
    "    perimeter=side1+side2+side3\n",
    "    print(\"Perimeter of triangle is\",perimeter)\n",
    "    return perimeter\n",
    "\n",
    "\n"
   ]
  },
  {
   "cell_type": "code",
   "execution_count": 1,
   "id": "df6521e6",
   "metadata": {},
   "outputs": [],
   "source": [
    "def area():\n",
    "    height=int(input(\"enter the height value\"))\n",
    "    breath=int(input(\"enter the breath value\"))\n",
    "    print(\"Area formula:(height*breath)/2\")\n",
    "    area=(height*breath)/2\n",
    "    print(\"Area of Triangle:\",area)\n",
    "    return area"
   ]
  },
  {
   "cell_type": "code",
   "execution_count": 2,
   "id": "bd379170",
   "metadata": {},
   "outputs": [
    {
     "name": "stdout",
     "output_type": "stream",
     "text": [
      "enter the height value12\n",
      "enter the breath value23\n",
      "Area formula:(height*breath)/2\n",
      "Area of Triangle: 138.0\n"
     ]
    },
    {
     "data": {
      "text/plain": [
       "138.0"
      ]
     },
     "execution_count": 2,
     "metadata": {},
     "output_type": "execute_result"
    }
   ],
   "source": [
    "area()"
   ]
  },
  {
   "cell_type": "code",
   "execution_count": 3,
   "id": "532fc86b",
   "metadata": {},
   "outputs": [],
   "source": [
    "def perimeter():\n",
    "    side1=int(input(\"enter side1 one value\"))\n",
    "    side2=int(input(\"enter side2 one value\"))\n",
    "    side3=int(input(\"enter side3 one value\"))\n",
    "    print(\"Perimeter formula:side1+side2+side3\")\n",
    "    perimeter=side1+side2+side3\n",
    "    print(\"Perimeter of triangle is\",perimeter)\n",
    "    return perimeter\n"
   ]
  },
  {
   "cell_type": "code",
   "execution_count": 4,
   "id": "8f4cdb42",
   "metadata": {},
   "outputs": [
    {
     "name": "stdout",
     "output_type": "stream",
     "text": [
      "enter side1 one value12\n",
      "enter side2 one value23\n",
      "enter side3 one value34\n",
      "Perimeter formula:side1+side2+side3\n",
      "Perimeter of triangle is 69\n"
     ]
    },
    {
     "data": {
      "text/plain": [
       "69"
      ]
     },
     "execution_count": 4,
     "metadata": {},
     "output_type": "execute_result"
    }
   ],
   "source": [
    "perimeter()"
   ]
  },
  {
   "cell_type": "code",
   "execution_count": 7,
   "id": "fdeeda94",
   "metadata": {},
   "outputs": [],
   "source": [
    "def main():\n",
    "    area()\n",
    "    perimeter()\n",
    "\n",
    "def area():\n",
    "    height=int(input(\"enter the height value:\"))\n",
    "    breath=int(input(\"enter the breath value:\"))\n",
    "    print(\"Area formula:(height*breath)/2\")\n",
    "    area=(height*breath)/2\n",
    "    print(\"Area of Triangle:\",area)\n",
    "    return area\n",
    "\n",
    "\n",
    "def perimeter():\n",
    "    side1=int(input(\"enter side1 one value:\"))\n",
    "    side2=int(input(\"enter side2 one value:\"))\n",
    "    side3=int(input(\"enter side3 one value:\"))\n",
    "    print(\"Perimeter formula:side1+side2+side3\")\n",
    "    perimeter=side1+side2+side3\n",
    "    print(\"Perimeter of triangle is\",perimeter)\n",
    "    return perimeter\n",
    "\n",
    "\n"
   ]
  },
  {
   "cell_type": "code",
   "execution_count": 8,
   "id": "1509e435",
   "metadata": {},
   "outputs": [
    {
     "name": "stdout",
     "output_type": "stream",
     "text": [
      "enter the height value:12\n",
      "enter the breath value:23\n",
      "Area formula:(height*breath)/2\n",
      "Area of Triangle: 138.0\n",
      "enter side1 one value:34\n",
      "enter side2 one value:45\n",
      "enter side3 one value:56\n",
      "Perimeter formula:side1+side2+side3\n",
      "Perimeter of triangle is 135\n"
     ]
    }
   ],
   "source": [
    "main()"
   ]
  },
  {
   "cell_type": "code",
   "execution_count": null,
   "id": "e72b3602",
   "metadata": {},
   "outputs": [],
   "source": []
  }
 ],
 "metadata": {
  "kernelspec": {
   "display_name": "Python 3 (ipykernel)",
   "language": "python",
   "name": "python3"
  },
  "language_info": {
   "codemirror_mode": {
    "name": "ipython",
    "version": 3
   },
   "file_extension": ".py",
   "mimetype": "text/x-python",
   "name": "python",
   "nbconvert_exporter": "python",
   "pygments_lexer": "ipython3",
   "version": "3.11.4"
  }
 },
 "nbformat": 4,
 "nbformat_minor": 5
}
