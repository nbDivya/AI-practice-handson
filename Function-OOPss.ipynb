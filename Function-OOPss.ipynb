{
 "cells": [
  {
   "cell_type": "code",
   "execution_count": 3,
   "id": "c9209164",
   "metadata": {},
   "outputs": [
    {
     "ename": "SyntaxError",
     "evalue": "invalid syntax (695164639.py, line 3)",
     "output_type": "error",
     "traceback": [
      "\u001b[1;36m  Cell \u001b[1;32mIn[3], line 3\u001b[1;36m\u001b[0m\n\u001b[1;33m    For age in lists:\u001b[0m\n\u001b[1;37m        ^\u001b[0m\n\u001b[1;31mSyntaxError\u001b[0m\u001b[1;31m:\u001b[0m invalid syntax\n"
     ]
    }
   ],
   "source": [
    "Lists=[23,45,67,34,89]\n",
    "def AgeCategory():\n",
    "    For age in lists:\n",
    "        print(\"Children\")\n",
    "    ellif(age<35):\n",
    "        print(\"Adult\")\n",
    "    elif(age<59):\n",
    "        print(\"Citizen\")\n",
    "    else:\n",
    "        print(\"Senior citizen\")\n",
    "    "
   ]
  },
  {
   "cell_type": "code",
   "execution_count": 4,
   "id": "8b593e2f",
   "metadata": {},
   "outputs": [],
   "source": [
    "Lists=[23,45,67,34,89]"
   ]
  },
  {
   "cell_type": "code",
   "execution_count": null,
   "id": "ecd4be57",
   "metadata": {},
   "outputs": [],
   "source": [
    "def AgeCategory():\n",
    "    For age in lists:\n",
    "        print(\"Children\")\n",
    "    ellif(age<35):\n",
    "        print(\"Adult\")\n",
    "    elif(age<59):\n",
    "        print(\"Citizen\")\n",
    "    else:\n",
    "        print(\"Senior citizen\")"
   ]
  },
  {
   "cell_type": "code",
   "execution_count": null,
   "id": "685dc708",
   "metadata": {},
   "outputs": [],
   "source": [
    "//The above one is just formula"
   ]
  },
  {
   "cell_type": "code",
   "execution_count": 5,
   "id": "c7154904",
   "metadata": {},
   "outputs": [
    {
     "ename": "NameError",
     "evalue": "name 'AgeCategory' is not defined",
     "output_type": "error",
     "traceback": [
      "\u001b[1;31m---------------------------------------------------------------------------\u001b[0m",
      "\u001b[1;31mNameError\u001b[0m                                 Traceback (most recent call last)",
      "Cell \u001b[1;32mIn[5], line 1\u001b[0m\n\u001b[1;32m----> 1\u001b[0m AgeCategory()\n",
      "\u001b[1;31mNameError\u001b[0m: name 'AgeCategory' is not defined"
     ]
    }
   ],
   "source": [
    "AgeCategory()"
   ]
  },
  {
   "cell_type": "code",
   "execution_count": 21,
   "id": "a2b6fa8d",
   "metadata": {},
   "outputs": [],
   "source": [
    "Lists=[23,45,67,34,89]\n"
   ]
  },
  {
   "cell_type": "code",
   "execution_count": 24,
   "id": "bc3b67da",
   "metadata": {},
   "outputs": [],
   "source": [
    "def AgeCategory():\n",
    "    for age in Lists:\n",
    "        \n",
    "        if(age<18):\n",
    "            print(\"Children\")             \n",
    "        elif(age<35):\n",
    "            print(\"Adult\")\n",
    "        elif(age<59):\n",
    "            print(\"Citizen\")\n",
    "        else:\n",
    "            print(\"Senior citizen\")\n",
    "        \n",
    "        "
   ]
  },
  {
   "cell_type": "code",
   "execution_count": 25,
   "id": "c640ed3a",
   "metadata": {},
   "outputs": [
    {
     "name": "stdout",
     "output_type": "stream",
     "text": [
      "Adult\n",
      "Citizen\n",
      "Senior citizen\n",
      "Adult\n",
      "Senior citizen\n"
     ]
    }
   ],
   "source": [
    "AgeCategory()Lists=[23,45,67,34,89]"
   ]
  },
  {
   "cell_type": "code",
   "execution_count": null,
   "id": "e7958c64",
   "metadata": {},
   "outputs": [],
   "source": []
  }
 ],
 "metadata": {
  "kernelspec": {
   "display_name": "Python 3 (ipykernel)",
   "language": "python",
   "name": "python3"
  },
  "language_info": {
   "codemirror_mode": {
    "name": "ipython",
    "version": 3
   },
   "file_extension": ".py",
   "mimetype": "text/x-python",
   "name": "python",
   "nbconvert_exporter": "python",
   "pygments_lexer": "ipython3",
   "version": "3.11.4"
  }
 },
 "nbformat": 4,
 "nbformat_minor": 5
}
