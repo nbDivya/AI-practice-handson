{
 "cells": [
  {
   "cell_type": "code",
   "execution_count": 3,
   "id": "77832d3b",
   "metadata": {},
   "outputs": [
    {
     "ename": "SyntaxError",
     "evalue": "invalid syntax (695164639.py, line 3)",
     "output_type": "error",
     "traceback": [
      "\u001b[1;36m  Cell \u001b[1;32mIn[3], line 3\u001b[1;36m\u001b[0m\n\u001b[1;33m    For age in lists:\u001b[0m\n\u001b[1;37m        ^\u001b[0m\n\u001b[1;31mSyntaxError\u001b[0m\u001b[1;31m:\u001b[0m invalid syntax\n"
     ]
    }
   ],
   "source": [
    "Lists=[23,45,67,34,89]\n",
    "def AgeCategory():\n",
    "    For age in lists:\n",
    "        print(\"Children\")\n",
    "    ellif(age<35):\n",
    "        print(\"Adult\")\n",
    "    elif(age<59):\n",
    "        print(\"Citizen\")\n",
    "    else:\n",
    "        print(\"Senior citizen\")\n",
    "    "
   ]
  },
  {
   "cell_type": "code",
   "execution_count": 4,
   "id": "67c3529d",
   "metadata": {},
   "outputs": [],
   "source": [
    "Lists=[23,45,67,34,89]"
   ]
  },
  {
   "cell_type": "code",
   "execution_count": null,
   "id": "24abc0bf",
   "metadata": {},
   "outputs": [],
   "source": [
    "def AgeCategory():\n",
    "    For age in lists:\n",
    "        print(\"Children\")\n",
    "    ellif(age<35):\n",
    "        print(\"Adult\")\n",
    "    elif(age<59):\n",
    "        print(\"Citizen\")\n",
    "    else:\n",
    "        print(\"Senior citizen\")"
   ]
  },
  {
   "cell_type": "code",
   "execution_count": null,
   "id": "3a6f2f89",
   "metadata": {},
   "outputs": [],
   "source": [
    "//The above one is just formula"
   ]
  },
  {
   "cell_type": "code",
   "execution_count": 5,
   "id": "804cb238",
   "metadata": {},
   "outputs": [
    {
     "ename": "NameError",
     "evalue": "name 'AgeCategory' is not defined",
     "output_type": "error",
     "traceback": [
      "\u001b[1;31m---------------------------------------------------------------------------\u001b[0m",
      "\u001b[1;31mNameError\u001b[0m                                 Traceback (most recent call last)",
      "Cell \u001b[1;32mIn[5], line 1\u001b[0m\n\u001b[1;32m----> 1\u001b[0m AgeCategory()\n",
      "\u001b[1;31mNameError\u001b[0m: name 'AgeCategory' is not defined"
     ]
    }
   ],
   "source": [
    "AgeCategory()"
   ]
  },
  {
   "cell_type": "code",
   "execution_count": 27,
   "id": "85c33382",
   "metadata": {},
   "outputs": [],
   "source": [
    "Lists=[23,45,67,34,89]\n",
    "#without return statement"
   ]
  },
  {
   "cell_type": "code",
   "execution_count": 24,
   "id": "ef4444a8",
   "metadata": {},
   "outputs": [],
   "source": [
    "def AgeCategory():\n",
    "    for age in Lists:\n",
    "        \n",
    "        if(age<18):\n",
    "            print(\"Children\")             \n",
    "        elif(age<35):\n",
    "            print(\"Adult\")\n",
    "        elif(age<59):\n",
    "            print(\"Citizen\")\n",
    "        else:\n",
    "            print(\"Senior citizen\")\n",
    "        \n",
    "        "
   ]
  },
  {
   "cell_type": "code",
   "execution_count": 25,
   "id": "021d25bd",
   "metadata": {},
   "outputs": [
    {
     "name": "stdout",
     "output_type": "stream",
     "text": [
      "Adult\n",
      "Citizen\n",
      "Senior citizen\n",
      "Adult\n",
      "Senior citizen\n"
     ]
    }
   ],
   "source": [
    "AgeCategory()"
   ]
  },
  {
   "cell_type": "code",
   "execution_count": null,
   "id": "3dc8d3a1",
   "metadata": {},
   "outputs": [],
   "source": [
    "# with return statement"
   ]
  },
  {
   "cell_type": "code",
   "execution_count": 33,
   "id": "bf4191e1",
   "metadata": {},
   "outputs": [
    {
     "name": "stdout",
     "output_type": "stream",
     "text": [
      "Enter the age:45\n"
     ]
    }
   ],
   "source": [
    "age=int(input(\"Enter the age:\"))\n",
    "def AgeCategory():\n",
    "    for age in Lists:\n",
    "        if(age<18):\n",
    "            print(\"Children\") \n",
    "            cate=\"Children\"\n",
    "        elif(age<35):\n",
    "            print(\"Adult\")\n",
    "            cate=\"Adult\"\n",
    "        elif(age<59):\n",
    "            print(\"Citizen\")\n",
    "            cate=\"Citizen\"\n",
    "        else:\n",
    "            print(\"Senior citizen\")\n",
    "            cate=\"Senior citizen\"\n",
    "        return cate\n",
    "        "
   ]
  },
  {
   "cell_type": "code",
   "execution_count": 34,
   "id": "29ec8c7a",
   "metadata": {},
   "outputs": [
    {
     "name": "stdout",
     "output_type": "stream",
     "text": [
      "Adult\n"
     ]
    },
    {
     "data": {
      "text/plain": [
       "'Adult'"
      ]
     },
     "execution_count": 34,
     "metadata": {},
     "output_type": "execute_result"
    }
   ],
   "source": [
    "AgeCategory()"
   ]
  },
  {
   "cell_type": "code",
   "execution_count": 35,
   "id": "96179b92",
   "metadata": {},
   "outputs": [
    {
     "name": "stdout",
     "output_type": "stream",
     "text": [
      "Adult\n"
     ]
    }
   ],
   "source": [
    "agecate=AgeCategory()"
   ]
  },
  {
   "cell_type": "code",
   "execution_count": 36,
   "id": "c58ea45d",
   "metadata": {},
   "outputs": [
    {
     "data": {
      "text/plain": [
       "'Adult'"
      ]
     },
     "execution_count": 36,
     "metadata": {},
     "output_type": "execute_result"
    }
   ],
   "source": [
    "agecate"
   ]
  },
  {
   "cell_type": "code",
   "execution_count": null,
   "id": "c40e9826",
   "metadata": {},
   "outputs": [],
   "source": [
    "#With No return statement\n"
   ]
  },
  {
   "cell_type": "code",
   "execution_count": 41,
   "id": "94b4e42c",
   "metadata": {},
   "outputs": [],
   "source": [
    "def AgeCategorywithNoReturn():\n",
    "        if(age<18):\n",
    "            print(\"Children\") \n",
    "            cate=\"Children\"   \n",
    "        elif(age<35):\n",
    "            print(\"Adult\")\n",
    "            cate=\"Adult\"\n",
    "        elif(age<59):\n",
    "            print(\"Citizen\")\n",
    "            cate=\"Citizen\"\n",
    "        else:\n",
    "            print(\"Senior citizen\")\n",
    "            cate=\"Senior citizen\"\n",
    "   "
   ]
  },
  {
   "cell_type": "code",
   "execution_count": 42,
   "id": "cba3b90d",
   "metadata": {},
   "outputs": [
    {
     "name": "stdout",
     "output_type": "stream",
     "text": [
      "Entet the age21\n"
     ]
    }
   ],
   "source": [
    " age=int(input(\"Entet the age\"))\n",
    "    "
   ]
  },
  {
   "cell_type": "code",
   "execution_count": 43,
   "id": "46ef4ae0",
   "metadata": {},
   "outputs": [
    {
     "name": "stdout",
     "output_type": "stream",
     "text": [
      "Adult\n"
     ]
    }
   ],
   "source": [
    "agecate=AgeCategorywithNoReturn()"
   ]
  },
  {
   "cell_type": "code",
   "execution_count": 44,
   "id": "293e4f9a",
   "metadata": {},
   "outputs": [
    {
     "name": "stdout",
     "output_type": "stream",
     "text": [
      "None\n"
     ]
    }
   ],
   "source": [
    "print(agecate)"
   ]
  },
  {
   "cell_type": "code",
   "execution_count": null,
   "id": "6f7b557c",
   "metadata": {},
   "outputs": [],
   "source": [
    "#Because there is no return statement for function"
   ]
  }
 ],
 "metadata": {
  "kernelspec": {
   "display_name": "Python 3 (ipykernel)",
   "language": "python",
   "name": "python3"
  },
  "language_info": {
   "codemirror_mode": {
    "name": "ipython",
    "version": 3
   },
   "file_extension": ".py",
   "mimetype": "text/x-python",
   "name": "python",
   "nbconvert_exporter": "python",
   "pygments_lexer": "ipython3",
   "version": "3.11.4"
  }
 },
 "nbformat": 4,
 "nbformat_minor": 5
}
