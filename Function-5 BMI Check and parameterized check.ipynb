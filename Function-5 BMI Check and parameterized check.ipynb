{
 "cells": [
  {
   "cell_type": "code",
   "execution_count": 2,
   "id": "6f8a21c3",
   "metadata": {},
   "outputs": [],
   "source": [
    "def BMI():\n",
    "    weight=int(input(\"Enter the BMI Index:\"))\n",
    "    if(weight<18.5):\n",
    "        print(\"underweight\")\n",
    "        message=\"underweight\"\n",
    "    elif(weight<=25):\n",
    "        print(\"Normal weight\")\n",
    "        message=\"Normal weight\"\n",
    "    else:\n",
    "        print(\"Very Overweight\")\n",
    "        message=\"Over weight\"\n",
    "    return message"
   ]
  },
  {
   "cell_type": "code",
   "execution_count": 4,
   "id": "39635ca3",
   "metadata": {},
   "outputs": [
    {
     "name": "stdout",
     "output_type": "stream",
     "text": [
      "Enter the BMI Index:13\n",
      "underweight\n"
     ]
    }
   ],
   "source": [
    "bmi=BMI()"
   ]
  },
  {
   "cell_type": "code",
   "execution_count": null,
   "id": "31a2e61b",
   "metadata": {},
   "outputs": [],
   "source": [
    "#parameterized or argument"
   ]
  },
  {
   "cell_type": "code",
   "execution_count": 5,
   "id": "a02f6d1b",
   "metadata": {},
   "outputs": [],
   "source": [
    "def addition(num1,num2):\n",
    "    add=num1+num2\n",
    "    return add"
   ]
  },
  {
   "cell_type": "code",
   "execution_count": 6,
   "id": "4e9f115f",
   "metadata": {},
   "outputs": [
    {
     "data": {
      "text/plain": [
       "30"
      ]
     },
     "execution_count": 6,
     "metadata": {},
     "output_type": "execute_result"
    }
   ],
   "source": [
    "addition(10,20)"
   ]
  },
  {
   "cell_type": "code",
   "execution_count": null,
   "id": "efb4823c",
   "metadata": {},
   "outputs": [],
   "source": []
  }
 ],
 "metadata": {
  "kernelspec": {
   "display_name": "Python 3 (ipykernel)",
   "language": "python",
   "name": "python3"
  },
  "language_info": {
   "codemirror_mode": {
    "name": "ipython",
    "version": 3
   },
   "file_extension": ".py",
   "mimetype": "text/x-python",
   "name": "python",
   "nbconvert_exporter": "python",
   "pygments_lexer": "ipython3",
   "version": "3.11.4"
  }
 },
 "nbformat": 4,
 "nbformat_minor": 5
}
