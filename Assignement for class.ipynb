{
 "cells": [
  {
   "cell_type": "code",
   "execution_count": null,
   "id": "ed38cb2e",
   "metadata": {},
   "outputs": [],
   "source": [
    "#Create a class and function, and list out the items in the list"
   ]
  },
  {
   "cell_type": "code",
   "execution_count": 2,
   "id": "651ccc75",
   "metadata": {},
   "outputs": [],
   "source": [
    "class SubFieldsInAI():\n",
    "    def subfields():\n",
    "        print(\"Subfields in AI are:\")\n",
    "        print(\"Machine language\")\n",
    "        print(\"Neural Network\")\n",
    "        print(\"Vision\")\n",
    "        print(\"Robotics\")\n",
    "        print(\"speech processing\")\n",
    "        print(\"Natural language processing\")\n",
    "        "
   ]
  },
  {
   "cell_type": "code",
   "execution_count": 3,
   "id": "c1fec22c",
   "metadata": {},
   "outputs": [
    {
     "name": "stdout",
     "output_type": "stream",
     "text": [
      "Subfields in AI are:\n",
      "Machine language\n",
      "Neural Network\n",
      "Vision\n",
      "Robotics\n",
      "speech processing\n",
      "Natural language processing\n"
     ]
    }
   ],
   "source": [
    "SubFieldsInAI.subfields()"
   ]
  },
  {
   "cell_type": "code",
   "execution_count": null,
   "id": "f0ffeb2c",
   "metadata": {},
   "outputs": [],
   "source": [
    "#Create a function that checks whether the given number is Odd or Even\n"
   ]
  },
  {
   "cell_type": "code",
   "execution_count": 7,
   "id": "6e3575aa",
   "metadata": {},
   "outputs": [],
   "source": [
    "class OddEven():\n",
    "    def oddeven():   \n",
    "        number=int(input(\"Enter the number\"))\n",
    "        if(number%2==0):\n",
    "            print(number, \"is Even number\")\n",
    "        else:\n",
    "            print(number, \"is Odd number\")\n",
    "\n"
   ]
  },
  {
   "cell_type": "code",
   "execution_count": 8,
   "id": "3c070bf4",
   "metadata": {},
   "outputs": [
    {
     "name": "stdout",
     "output_type": "stream",
     "text": [
      "Enter the number34\n",
      "34 is Even number\n"
     ]
    }
   ],
   "source": [
    "OddEven.oddeven()"
   ]
  },
  {
   "cell_type": "code",
   "execution_count": null,
   "id": "14e51208",
   "metadata": {},
   "outputs": [],
   "source": [
    "#Create a function that tells elegibility of marriage for male and female according to their age limit like 21 for male and 18 for female\n"
   ]
  },
  {
   "cell_type": "code",
   "execution_count": 31,
   "id": "f6f4d2a0",
   "metadata": {},
   "outputs": [],
   "source": [
    "class EligibilityforMarriage():\n",
    "    def Eligible():\n",
    "        gender=input(\"Enter gender:\")\n",
    "        age=int(input(\"Enter your age:\"))\n",
    "        if(gender==\"male\"):\n",
    "            if(age<=20):\n",
    "                print(\"Not elligible for marriage\")\n",
    "            else:\n",
    "                print(\"Elligible for marriage\")\n",
    "        elif(gender==\"female\"):\n",
    "            if(age<18):        \n",
    "                print(\"Not elligible for marriage\")\n",
    "            else:\n",
    "                print(\"Elligible for marriage\")  \n",
    "        else:\n",
    "            print(\"Invalid input\")"
   ]
  },
  {
   "cell_type": "code",
   "execution_count": 32,
   "id": "8e5d80d2",
   "metadata": {},
   "outputs": [
    {
     "name": "stdout",
     "output_type": "stream",
     "text": [
      "Enter gender:male\n",
      "Enter your age:20\n",
      "Not elligible for marriage\n"
     ]
    }
   ],
   "source": [
    "EligibilityforMarriage.Eligible()"
   ]
  },
  {
   "cell_type": "code",
   "execution_count": null,
   "id": "acef8ab2",
   "metadata": {},
   "outputs": [],
   "source": [
    "# calculate the percentage of your 10th mark"
   ]
  },
  {
   "cell_type": "code",
   "execution_count": 33,
   "id": "155b9401",
   "metadata": {},
   "outputs": [],
   "source": [
    "class Findpercentage():\n",
    "    def percentage():\n",
    "        subject1=int(input(\"subject1:\"))\n",
    "        subject2=int(input(\"subject2:\"))\n",
    "        subject3=int(input(\"subject3:\"))\n",
    "        subject4=int(input(\"subject4:\"))\n",
    "        subject5=int(input(\"subject5:\"))\n",
    "        total=subject1+subject2+subject3+subject4+subject5\n",
    "        print(\"Total\",total)\n",
    "        percentage=total/5\n",
    "        print(\"percentage:\",percentage)\n"
   ]
  },
  {
   "cell_type": "code",
   "execution_count": 35,
   "id": "d4cd8de5",
   "metadata": {},
   "outputs": [
    {
     "name": "stdout",
     "output_type": "stream",
     "text": [
      "subject1:100\n",
      "subject2:90\n",
      "subject3:90\n",
      "subject4:80\n",
      "subject5:78\n",
      "Total 438\n",
      "percentage: 87.6\n"
     ]
    }
   ],
   "source": [
    "Findpercentage.percentage()"
   ]
  },
  {
   "cell_type": "code",
   "execution_count": null,
   "id": "ead9d716",
   "metadata": {},
   "outputs": [],
   "source": [
    "#print area and perimeter of triangle using class and function"
   ]
  },
  {
   "cell_type": "code",
   "execution_count": 41,
   "id": "9ff7dd57",
   "metadata": {},
   "outputs": [],
   "source": [
    "\n",
    "    def main():\n",
    "        area()\n",
    "        perimeter()\n",
    "\n",
    "    def area():\n",
    "        height=int(input(\"enter the height value:\"))\n",
    "        breath=int(input(\"enter the breath value:\"))\n",
    "        print(\"Area formula:(height*breath)/2\")\n",
    "        area=(height*breath)/2\n",
    "        print(\"Area of Triangle:\",area)\n",
    "        return area\n",
    "\n",
    "\n",
    "    def perimeter():\n",
    "        side1=int(input(\"enter side1 one value:\"))\n",
    "        side2=int(input(\"enter side2 one value:\"))\n",
    "        side3=int(input(\"enter side3 one value:\"))\n",
    "        print(\"Perimeter formula:side1+side2+side3\")\n",
    "        perimeter=side1+side2+side3\n",
    "        print(\"Perimeter of triangle is\",perimeter)\n",
    "        return perimeter\n"
   ]
  },
  {
   "cell_type": "code",
   "execution_count": 42,
   "id": "91ac877b",
   "metadata": {},
   "outputs": [
    {
     "name": "stdout",
     "output_type": "stream",
     "text": [
      "enter the height value:12\n",
      "enter the breath value:23\n",
      "Area formula:(height*breath)/2\n",
      "Area of Triangle: 138.0\n",
      "enter side1 one value:23\n",
      "enter side2 one value:34\n",
      "enter side3 one value:35\n",
      "Perimeter formula:side1+side2+side3\n",
      "Perimeter of triangle is 92\n"
     ]
    }
   ],
   "source": [
    "main()"
   ]
  },
  {
   "cell_type": "code",
   "execution_count": 43,
   "id": "c47c02a7",
   "metadata": {},
   "outputs": [],
   "source": [
    "class Triangle():\n",
    "    \n",
    "    def main():\n",
    "        area()\n",
    "        perimeter()\n",
    "\n",
    "    def area():\n",
    "        height=int(input(\"enter the height value:\"))\n",
    "        breath=int(input(\"enter the breath value:\"))\n",
    "        print(\"Area formula:(height*breath)/2\")\n",
    "        area=(height*breath)/2\n",
    "        print(\"Area of Triangle:\",area)\n",
    "        return area\n",
    "\n",
    "\n",
    "    def perimeter():\n",
    "        side1=int(input(\"enter side1 one value:\"))\n",
    "        side2=int(input(\"enter side2 one value:\"))\n",
    "        side3=int(input(\"enter side3 one value:\"))\n",
    "        print(\"Perimeter formula:side1+side2+side3\")\n",
    "        perimeter=side1+side2+side3\n",
    "        print(\"Perimeter of triangle is\",perimeter)\n",
    "        return perimeter\n",
    "\n",
    "    \n",
    "    "
   ]
  },
  {
   "cell_type": "code",
   "execution_count": 44,
   "id": "abf3dc97",
   "metadata": {},
   "outputs": [
    {
     "name": "stdout",
     "output_type": "stream",
     "text": [
      "enter the height value:12\n",
      "enter the breath value:23\n",
      "Area formula:(height*breath)/2\n",
      "Area of Triangle: 138.0\n",
      "enter side1 one value:12\n",
      "enter side2 one value:13\n",
      "enter side3 one value:14\n",
      "Perimeter formula:side1+side2+side3\n",
      "Perimeter of triangle is 39\n"
     ]
    }
   ],
   "source": [
    "Triangle.main()"
   ]
  },
  {
   "cell_type": "code",
   "execution_count": 45,
   "id": "bf0da282",
   "metadata": {},
   "outputs": [
    {
     "name": "stdout",
     "output_type": "stream",
     "text": [
      "pytonPrg\n"
     ]
    }
   ],
   "source": [
    "print(\"pyton\"+\"Prg\")"
   ]
  },
  {
   "cell_type": "code",
   "execution_count": null,
   "id": "ad35d3a2",
   "metadata": {},
   "outputs": [],
   "source": []
  }
 ],
 "metadata": {
  "kernelspec": {
   "display_name": "Python 3 (ipykernel)",
   "language": "python",
   "name": "python3"
  },
  "language_info": {
   "codemirror_mode": {
    "name": "ipython",
    "version": 3
   },
   "file_extension": ".py",
   "mimetype": "text/x-python",
   "name": "python",
   "nbconvert_exporter": "python",
   "pygments_lexer": "ipython3",
   "version": "3.11.4"
  }
 },
 "nbformat": 4,
 "nbformat_minor": 5
}
