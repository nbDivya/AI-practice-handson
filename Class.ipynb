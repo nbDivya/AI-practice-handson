{
 "cells": [
  {
   "cell_type": "code",
   "execution_count": 5,
   "id": "def3473e",
   "metadata": {},
   "outputs": [],
   "source": [
    "class multifunction():\n",
    "    def oddeven():\n",
    "        number=int(input(\"Enter the number\"))\n",
    "        if(number%2==0):\n",
    "            print(\"Even number\")\n",
    "            message=\"Even\"\n",
    "        else:\n",
    "            print(\"Odd number\")\n",
    "            message=\"Odd\"\n",
    "        return message\n",
    "    \n",
    "            \n",
    "    def BMI():\n",
    "        weight=int(input(\"Enter the BMI Index:\"))\n",
    "        if(weight<18.5):\n",
    "            print(\"underweight\")\n",
    "            message=\"underweight\"\n",
    "        elif(weight<=25):\n",
    "            print(\"Normal weight\")\n",
    "            message=\"Normal weight\"\n",
    "        else:\n",
    "            print(\"Very Overweight\")\n",
    "            message=\"Over weight\"\n",
    "        return message    \n",
    "    \n",
    "    def addition(num1,num2):\n",
    "        add=num1+num2\n",
    "        return add"
   ]
  },
  {
   "cell_type": "code",
   "execution_count": 3,
   "id": "8fb86fb7",
   "metadata": {},
   "outputs": [],
   "source": [
    "# syntax"
   ]
  },
  {
   "cell_type": "code",
   "execution_count": null,
   "id": "2e62b990",
   "metadata": {},
   "outputs": [],
   "source": [
    "#classname.functionname\n",
    "\n"
   ]
  },
  {
   "cell_type": "code",
   "execution_count": 6,
   "id": "518dc9aa",
   "metadata": {},
   "outputs": [
    {
     "name": "stdout",
     "output_type": "stream",
     "text": [
      "Enter the BMI Index:65\n",
      "Very Overweight\n"
     ]
    },
    {
     "data": {
      "text/plain": [
       "'Over weight'"
      ]
     },
     "execution_count": 6,
     "metadata": {},
     "output_type": "execute_result"
    }
   ],
   "source": [
    "multifunction.BMI()"
   ]
  },
  {
   "cell_type": "code",
   "execution_count": 7,
   "id": "7f5deb30",
   "metadata": {},
   "outputs": [
    {
     "name": "stdout",
     "output_type": "stream",
     "text": [
      "Enter the number45\n",
      "Odd number\n"
     ]
    },
    {
     "data": {
      "text/plain": [
       "'Odd'"
      ]
     },
     "execution_count": 7,
     "metadata": {},
     "output_type": "execute_result"
    }
   ],
   "source": [
    "multifunction.oddeven()"
   ]
  },
  {
   "cell_type": "code",
   "execution_count": null,
   "id": "19922635",
   "metadata": {},
   "outputs": [],
   "source": []
  }
 ],
 "metadata": {
  "kernelspec": {
   "display_name": "Python 3 (ipykernel)",
   "language": "python",
   "name": "python3"
  },
  "language_info": {
   "codemirror_mode": {
    "name": "ipython",
    "version": 3
   },
   "file_extension": ".py",
   "mimetype": "text/x-python",
   "name": "python",
   "nbconvert_exporter": "python",
   "pygments_lexer": "ipython3",
   "version": "3.11.4"
  }
 },
 "nbformat": 4,
 "nbformat_minor": 5
}
